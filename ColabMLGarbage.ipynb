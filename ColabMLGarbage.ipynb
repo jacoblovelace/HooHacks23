{
  "nbformat": 4,
  "nbformat_minor": 0,
  "metadata": {
    "colab": {
      "provenance": []
    },
    "kernelspec": {
      "name": "python3",
      "display_name": "Python 3"
    },
    "language_info": {
      "name": "python"
    },
    "accelerator": "TPU",
    "gpuClass": "standard"
  },
  "cells": [
    {
      "cell_type": "code",
      "source": [
        "!pip install tensorflow\n",
        "!pip install keras\n"
      ],
      "metadata": {
        "id": "JRIJZoN410On"
      },
      "execution_count": null,
      "outputs": []
    },
    {
      "cell_type": "code",
      "execution_count": null,
      "metadata": {
        "colab": {
          "base_uri": "https://localhost:8080/"
        },
        "id": "Grgc3NSs1n8V",
        "outputId": "387bc1b6-7de3-4883-8604-37249aa2e069"
      },
      "outputs": [
        {
          "output_type": "stream",
          "name": "stdout",
          "text": [
            "Mounted at /content/drive\n",
            "setup successful!\n"
          ]
        }
      ],
      "source": [
        "import pandas as pd \n",
        "import os\n",
        "import keras\n",
        "import tensorflow as tf\n",
        "\n",
        "from PIL import Image\n",
        "from keras.layers import Conv2D, Dense, Flatten, MaxPooling2D, Input, GlobalAveragePooling2D\n",
        "from keras.models import Model, Sequential\n",
        "from keras.preprocessing import image\n",
        "from keras.layers import Lambda\n",
        "from keras.callbacks import EarlyStopping\n",
        "from sklearn.model_selection import train_test_split\n",
        "from sklearn.metrics import classification_report\n",
        "import keras.applications.mobilenet_v2 as mobilenetv2\n",
        "\n",
        "from google.colab import drive\n",
        "drive.mount('/content/drive')\n",
        "\n",
        "print('setup successful!')"
      ]
    },
    {
      "cell_type": "code",
      "source": [
        "width = 224    \n",
        "height = 224\n",
        "size=(width, height)\n",
        "channels = 3\n",
        "all_pictures = \"/content/drive/My Drive/College/Colab_Notebooks/garbage_classification/\"\n",
        "\n",
        "\n",
        "# Dictionaries to save the 12 classes\n",
        "# battery, biological,brown-glass,cardboard,clothes,green-glass,metal,paper,plastic,shoes,trash,white-glass\n",
        "categories = {1: 'biological', 2: \"brown-glass\", 3: \"cardboard\", \n",
        "              4: \"green-glass\", 5: 'metal', 6: 'paper', \n",
        "              7: 'plastic', 8: \"trash\", 9: \"white-glass\"}\n",
        "stac = {'biological': 1,\"brown-glass\": 2, \"cardboard\": 3, \n",
        "              \"green-glass\": 4, 'metal': 5, 'paper': 6, \n",
        "              'plastic': 7, \"trash\": 8, \"white-glass\": 9}        "
      ],
      "metadata": {
        "colab": {
          "base_uri": "https://localhost:8080/"
        },
        "id": "tG8Hx35M2Fjs",
        "outputId": "7e3a4cf6-4192-4a08-fd72-eab5ac14d3e5"
      },
      "execution_count": null,
      "outputs": [
        {
          "output_type": "stream",
          "name": "stdout",
          "text": [
            "defining constants successful!\n"
          ]
        }
      ]
    },
    {
      "cell_type": "code",
      "source": [
        "data = {}\n",
        "\n",
        "for folder in os.listdir(all_pictures):\n",
        "    if folder == \"clothes\":\n",
        "      continue\n",
        "    elif folder == \"shoes\":\n",
        "      continue\n",
        "    elif folder == \"battery\":\n",
        "      continue\n",
        "    # print(folder)  # This is the folder names\n",
        "    for picture in os.walk(all_pictures + folder):\n",
        "        # print(picture)\n",
        "        # print(picture[2])\n",
        "        for k in picture[2]:\n",
        "            data[folder + '/' + k] = stac[folder]\n",
        "\n",
        "data = pd.DataFrame(data.items(), columns=[\"filename\", \"category\"])\n",
        "df = data.sample(frac=1).reset_index(drop=True)\n",
        "\n",
        "print('number of elements = ' , len(df))\n",
        "df.head()"
      ],
      "metadata": {
        "colab": {
          "base_uri": "https://localhost:8080/",
          "height": 224
        },
        "id": "gYe3u6FC4eD8",
        "outputId": "a9daac6f-4000-4c43-88c4-e89839658ae8"
      },
      "execution_count": null,
      "outputs": [
        {
          "output_type": "stream",
          "name": "stdout",
          "text": [
            "number of elements =  7268\n"
          ]
        },
        {
          "output_type": "execute_result",
          "data": {
            "text/plain": [
              "                         filename  category\n",
              "0    biological/biological633.jpg         1\n",
              "1    biological/biological823.jpg         1\n",
              "2          plastic/plastic817.jpg         7\n",
              "3   white-glass/white-glass71.jpg         9\n",
              "4  green-glass/green-glass197.jpg         4"
            ],
            "text/html": [
              "\n",
              "  <div id=\"df-e31f3429-96d7-4d02-8b7a-2687d8cf8e51\">\n",
              "    <div class=\"colab-df-container\">\n",
              "      <div>\n",
              "<style scoped>\n",
              "    .dataframe tbody tr th:only-of-type {\n",
              "        vertical-align: middle;\n",
              "    }\n",
              "\n",
              "    .dataframe tbody tr th {\n",
              "        vertical-align: top;\n",
              "    }\n",
              "\n",
              "    .dataframe thead th {\n",
              "        text-align: right;\n",
              "    }\n",
              "</style>\n",
              "<table border=\"1\" class=\"dataframe\">\n",
              "  <thead>\n",
              "    <tr style=\"text-align: right;\">\n",
              "      <th></th>\n",
              "      <th>filename</th>\n",
              "      <th>category</th>\n",
              "    </tr>\n",
              "  </thead>\n",
              "  <tbody>\n",
              "    <tr>\n",
              "      <th>0</th>\n",
              "      <td>biological/biological633.jpg</td>\n",
              "      <td>1</td>\n",
              "    </tr>\n",
              "    <tr>\n",
              "      <th>1</th>\n",
              "      <td>biological/biological823.jpg</td>\n",
              "      <td>1</td>\n",
              "    </tr>\n",
              "    <tr>\n",
              "      <th>2</th>\n",
              "      <td>plastic/plastic817.jpg</td>\n",
              "      <td>7</td>\n",
              "    </tr>\n",
              "    <tr>\n",
              "      <th>3</th>\n",
              "      <td>white-glass/white-glass71.jpg</td>\n",
              "      <td>9</td>\n",
              "    </tr>\n",
              "    <tr>\n",
              "      <th>4</th>\n",
              "      <td>green-glass/green-glass197.jpg</td>\n",
              "      <td>4</td>\n",
              "    </tr>\n",
              "  </tbody>\n",
              "</table>\n",
              "</div>\n",
              "      <button class=\"colab-df-convert\" onclick=\"convertToInteractive('df-e31f3429-96d7-4d02-8b7a-2687d8cf8e51')\"\n",
              "              title=\"Convert this dataframe to an interactive table.\"\n",
              "              style=\"display:none;\">\n",
              "        \n",
              "  <svg xmlns=\"http://www.w3.org/2000/svg\" height=\"24px\"viewBox=\"0 0 24 24\"\n",
              "       width=\"24px\">\n",
              "    <path d=\"M0 0h24v24H0V0z\" fill=\"none\"/>\n",
              "    <path d=\"M18.56 5.44l.94 2.06.94-2.06 2.06-.94-2.06-.94-.94-2.06-.94 2.06-2.06.94zm-11 1L8.5 8.5l.94-2.06 2.06-.94-2.06-.94L8.5 2.5l-.94 2.06-2.06.94zm10 10l.94 2.06.94-2.06 2.06-.94-2.06-.94-.94-2.06-.94 2.06-2.06.94z\"/><path d=\"M17.41 7.96l-1.37-1.37c-.4-.4-.92-.59-1.43-.59-.52 0-1.04.2-1.43.59L10.3 9.45l-7.72 7.72c-.78.78-.78 2.05 0 2.83L4 21.41c.39.39.9.59 1.41.59.51 0 1.02-.2 1.41-.59l7.78-7.78 2.81-2.81c.8-.78.8-2.07 0-2.86zM5.41 20L4 18.59l7.72-7.72 1.47 1.35L5.41 20z\"/>\n",
              "  </svg>\n",
              "      </button>\n",
              "      \n",
              "  <style>\n",
              "    .colab-df-container {\n",
              "      display:flex;\n",
              "      flex-wrap:wrap;\n",
              "      gap: 12px;\n",
              "    }\n",
              "\n",
              "    .colab-df-convert {\n",
              "      background-color: #E8F0FE;\n",
              "      border: none;\n",
              "      border-radius: 50%;\n",
              "      cursor: pointer;\n",
              "      display: none;\n",
              "      fill: #1967D2;\n",
              "      height: 32px;\n",
              "      padding: 0 0 0 0;\n",
              "      width: 32px;\n",
              "    }\n",
              "\n",
              "    .colab-df-convert:hover {\n",
              "      background-color: #E2EBFA;\n",
              "      box-shadow: 0px 1px 2px rgba(60, 64, 67, 0.3), 0px 1px 3px 1px rgba(60, 64, 67, 0.15);\n",
              "      fill: #174EA6;\n",
              "    }\n",
              "\n",
              "    [theme=dark] .colab-df-convert {\n",
              "      background-color: #3B4455;\n",
              "      fill: #D2E3FC;\n",
              "    }\n",
              "\n",
              "    [theme=dark] .colab-df-convert:hover {\n",
              "      background-color: #434B5C;\n",
              "      box-shadow: 0px 1px 3px 1px rgba(0, 0, 0, 0.15);\n",
              "      filter: drop-shadow(0px 1px 2px rgba(0, 0, 0, 0.3));\n",
              "      fill: #FFFFFF;\n",
              "    }\n",
              "  </style>\n",
              "\n",
              "      <script>\n",
              "        const buttonEl =\n",
              "          document.querySelector('#df-e31f3429-96d7-4d02-8b7a-2687d8cf8e51 button.colab-df-convert');\n",
              "        buttonEl.style.display =\n",
              "          google.colab.kernel.accessAllowed ? 'block' : 'none';\n",
              "\n",
              "        async function convertToInteractive(key) {\n",
              "          const element = document.querySelector('#df-e31f3429-96d7-4d02-8b7a-2687d8cf8e51');\n",
              "          const dataTable =\n",
              "            await google.colab.kernel.invokeFunction('convertToInteractive',\n",
              "                                                     [key], {});\n",
              "          if (!dataTable) return;\n",
              "\n",
              "          const docLinkHtml = 'Like what you see? Visit the ' +\n",
              "            '<a target=\"_blank\" href=https://colab.research.google.com/notebooks/data_table.ipynb>data table notebook</a>'\n",
              "            + ' to learn more about interactive tables.';\n",
              "          element.innerHTML = '';\n",
              "          dataTable['output_type'] = 'display_data';\n",
              "          await google.colab.output.renderOutput(dataTable, element);\n",
              "          const docLink = document.createElement('div');\n",
              "          docLink.innerHTML = docLinkHtml;\n",
              "          element.appendChild(docLink);\n",
              "        }\n",
              "      </script>\n",
              "    </div>\n",
              "  </div>\n",
              "  "
            ]
          },
          "metadata": {},
          "execution_count": 3
        }
      ]
    },
    {
      "cell_type": "code",
      "source": [
        "mobilenetv2_layer = mobilenetv2.MobileNetV2(include_top = False, input_shape = (width, height,channels))\n",
        "mobilenetv2_layer.trainable = False\n",
        "\n",
        "\n",
        "model = Sequential()\n",
        "model.add(keras.Input(shape=(width, height, channels)))\n",
        "\n",
        "#create a custom layer to apply the preprocessing\n",
        "def mobilenetv2_preprocessing(img):\n",
        "  return mobilenetv2.preprocess_input(img)\n",
        "\n",
        "model.add(Lambda(mobilenetv2_preprocessing))\n",
        "\n",
        "model.add(mobilenetv2_layer)\n",
        "model.add(tf.keras.layers.GlobalAveragePooling2D())\n",
        "model.add(Dense(len(categories), activation='softmax')) \n",
        "\n",
        "model.compile(loss='categorical_crossentropy', optimizer='adam', metrics=['categorical_accuracy'])\n",
        "\n",
        "model.summary()"
      ],
      "metadata": {
        "colab": {
          "base_uri": "https://localhost:8080/"
        },
        "id": "1ov4Ltsw6MyR",
        "outputId": "512bd4ca-e4de-48b4-c85f-12226757fc57"
      },
      "execution_count": null,
      "outputs": [
        {
          "output_type": "stream",
          "name": "stdout",
          "text": [
            "Downloading data from https://storage.googleapis.com/tensorflow/keras-applications/mobilenet_v2/mobilenet_v2_weights_tf_dim_ordering_tf_kernels_1.0_224_no_top.h5\n",
            "9406464/9406464 [==============================] - 0s 0us/step\n",
            "Model: \"sequential\"\n",
            "_________________________________________________________________\n",
            " Layer (type)                Output Shape              Param #   \n",
            "=================================================================\n",
            " lambda (Lambda)             (None, 224, 224, 3)       0         \n",
            "                                                                 \n",
            " mobilenetv2_1.00_224 (Funct  (None, 7, 7, 1280)       2257984   \n",
            " ional)                                                          \n",
            "                                                                 \n",
            " global_average_pooling2d (G  (None, 1280)             0         \n",
            " lobalAveragePooling2D)                                          \n",
            "                                                                 \n",
            " dense (Dense)               (None, 9)                 11529     \n",
            "                                                                 \n",
            "=================================================================\n",
            "Total params: 2,269,513\n",
            "Trainable params: 11,529\n",
            "Non-trainable params: 2,257,984\n",
            "_________________________________________________________________\n"
          ]
        }
      ]
    },
    {
      "cell_type": "code",
      "source": [
        "#Change the categories from numbers to names\n",
        "df[\"category\"] = df[\"category\"].replace(categories) \n",
        "\n",
        "train, validate = train_test_split(df, test_size=0.2, random_state=37)\n",
        "\n",
        "validate, test = train_test_split(validate, test_size=0.3, random_state=37)\n",
        "\n",
        "train = train.reset_index(drop=True)\n",
        "validate = validate.reset_index(drop=True)\n",
        "test = test.reset_index(drop=True)\n",
        "\n",
        "total_train = train.shape[0]\n",
        "total_validate = validate.shape[0]\n",
        "\n",
        "print('train size = ', total_validate , 'validate size = ', total_validate, 'test size = ', test.shape[0])\n"
      ],
      "metadata": {
        "colab": {
          "base_uri": "https://localhost:8080/"
        },
        "id": "8vgPwHao6ofl",
        "outputId": "ebaf10de-371b-47d9-bd1b-75dbf0f21f0e"
      },
      "execution_count": null,
      "outputs": [
        {
          "output_type": "stream",
          "name": "stdout",
          "text": [
            "train size =  1017 validate size =  1017 test size =  437\n"
          ]
        }
      ]
    },
    {
      "cell_type": "code",
      "source": [
        "batch_size=20\n",
        "\n",
        "train_datagen = image.ImageDataGenerator(\n",
        "    \n",
        "    ###  Augmentation Start  ###\n",
        "    \n",
        "    rotation_range=30,\n",
        "    shear_range=0.1,\n",
        "    zoom_range=0.3,\n",
        "    horizontal_flip=True,\n",
        "    vertical_flip = True,\n",
        "    width_shift_range=0.2,\n",
        "    height_shift_range=0.2\n",
        "    \n",
        "    ##  Augmentation End  ###\n",
        ")\n",
        "\n",
        "train_generator = train_datagen.flow_from_dataframe(\n",
        "    train, \n",
        "    all_pictures, \n",
        "    x_col='filename',\n",
        "    y_col='category',\n",
        "    target_size=size,\n",
        "    class_mode='categorical',\n",
        "    batch_size=batch_size\n",
        ")\n",
        "\n",
        "validation_datagen = image.ImageDataGenerator()\n",
        "\n",
        "validation_generator = validation_datagen.flow_from_dataframe(\n",
        "    test, \n",
        "    all_pictures, \n",
        "    x_col='filename',\n",
        "    y_col='category',\n",
        "    target_size=size,\n",
        "    class_mode='categorical',\n",
        "    batch_size=batch_size\n",
        ")"
      ],
      "metadata": {
        "colab": {
          "base_uri": "https://localhost:8080/"
        },
        "id": "oaCxe7h26st5",
        "outputId": "ec5854b4-a769-409c-ed37-ae3c7405d236"
      },
      "execution_count": null,
      "outputs": [
        {
          "output_type": "stream",
          "name": "stdout",
          "text": [
            "Found 5814 validated image filenames belonging to 9 classes.\n",
            "Found 437 validated image filenames belonging to 9 classes.\n"
          ]
        }
      ]
    },
    {
      "cell_type": "code",
      "source": [
        "EPOCHS = 4\n",
        "history = model.fit(\n",
        "    train_generator, \n",
        "    epochs=EPOCHS,\n",
        "    validation_data=validation_generator,\n",
        "    validation_steps=total_validate//batch_size,\n",
        "    steps_per_epoch=total_train//batch_size,\n",
        "    #callbacks=callbacks\n",
        ")"
      ],
      "metadata": {
        "colab": {
          "base_uri": "https://localhost:8080/"
        },
        "id": "oJx8_Vb06yT4",
        "outputId": "3d19a102-2a42-400f-b0bd-4d839d985799"
      },
      "execution_count": null,
      "outputs": [
        {
          "output_type": "stream",
          "name": "stdout",
          "text": [
            "Epoch 1/7\n",
            "290/290 [==============================] - ETA: 0s - loss: 0.7489 - categorical_accuracy: 0.7577"
          ]
        },
        {
          "output_type": "stream",
          "name": "stderr",
          "text": [
            "WARNING:tensorflow:Your input ran out of data; interrupting training. Make sure that your dataset or generator can generate at least `steps_per_epoch * epochs` batches (in this case, 50 batches). You may need to use the repeat() function when building your dataset.\n"
          ]
        },
        {
          "output_type": "stream",
          "name": "stdout",
          "text": [
            "\b\b\b\b\b\b\b\b\b\b\b\b\b\b\b\b\b\b\b\b\b\b\b\b\b\b\b\b\b\b\b\b\b\b\b\b\b\b\b\b\b\b\b\b\b\b\b\b\b\b\b\b\b\b\b\b\b\b\b\b\b\b\b\b\b\b\b\b\b\b\b\b\b\b\b\b\b\b\b\b\b\b\b\b\b\b\b\b\b\b\b\b\b\b\b\b\r290/290 [==============================] - 1212s 4s/step - loss: 0.7489 - categorical_accuracy: 0.7577 - val_loss: 0.4637 - val_categorical_accuracy: 0.8627\n",
            "Epoch 2/7\n",
            "290/290 [==============================] - 324s 1s/step - loss: 0.4044 - categorical_accuracy: 0.8614\n",
            "Epoch 3/7\n",
            "290/290 [==============================] - 322s 1s/step - loss: 0.3604 - categorical_accuracy: 0.8797\n",
            "Epoch 4/7\n",
            "290/290 [==============================] - 322s 1s/step - loss: 0.3254 - categorical_accuracy: 0.8909\n",
            "Epoch 5/7\n",
            "290/290 [==============================] - 324s 1s/step - loss: 0.3027 - categorical_accuracy: 0.8958\n",
            "Epoch 6/7\n",
            "290/290 [==============================] - 326s 1s/step - loss: 0.2769 - categorical_accuracy: 0.9056\n",
            "Epoch 7/7\n",
            "290/290 [==============================] - 325s 1s/step - loss: 0.2681 - categorical_accuracy: 0.9082\n"
          ]
        }
      ]
    },
    {
      "cell_type": "code",
      "source": [
        "model.save_weights(\"/content/drive/My Drive/College/Colab_Notebooks/model12.h5\")\n",
        "model.save(\"/content/drive/My Drive/College/Colab_Notebooks/my_model.h5\", save_format='tf')"
      ],
      "metadata": {
        "id": "pevwlc6J672h"
      },
      "execution_count": null,
      "outputs": []
    }
  ]
}